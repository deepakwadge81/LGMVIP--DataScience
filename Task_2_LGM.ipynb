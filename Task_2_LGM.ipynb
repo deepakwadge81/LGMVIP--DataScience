{
  "nbformat": 4,
  "nbformat_minor": 0,
  "metadata": {
    "colab": {
      "name": "Task_2 LGM.ipynb",
      "provenance": []
    },
    "kernelspec": {
      "name": "python3",
      "display_name": "Python 3"
    },
    "language_info": {
      "name": "python"
    }
  },
  "cells": [
    {
      "cell_type": "markdown",
      "source": [
        "# Author : Deepak Wadge\n",
        "# LGMVIPJUNE\n",
        "\n",
        "## Data Science Intern June 2022\n",
        "## TASK 2 : Stock Market Prediction And Forecasting Using Stacked LSTM\n"
      ],
      "metadata": {
        "id": "dwXsDslgVLiG"
      }
    },
    {
      "cell_type": "markdown",
      "source": [
        "# Import important libraries"
      ],
      "metadata": {
        "id": "UgbhRplyZ1D4"
      }
    },
    {
      "cell_type": "code",
      "execution_count": null,
      "metadata": {
        "id": "0o3Rb32LU5Xo"
      },
      "outputs": [],
      "source": [
        "import numpy as np\n",
        "import pandas as pd\n",
        "import matplotlib.pyplot as plt\n",
        "import tensorflow as tf\n",
        "from sklearn.preprocessing import MinMaxScaler\n",
        "from tensorflow.keras.models import Sequential\n",
        "from tensorflow.keras.layers import Dense\n",
        "from tensorflow.keras.layers import LSTM\n",
        "import math\n",
        "from sklearn.metrics import mean_squared_error\n",
        "import warnings\n",
        "warnings.filterwarnings(\"ignore\")"
      ]
    },
    {
      "cell_type": "markdown",
      "source": [
        "\n",
        "# Reading the Dataset"
      ],
      "metadata": {
        "id": "SyU89TLjVtqG"
      }
    },
    {
      "cell_type": "code",
      "source": [
        "data = pd.read_csv(\"https://raw.githubusercontent.com/mwitiderrick/stockprice/master/NSE-TATAGLOBAL.csv\")\n",
        "data.head()"
      ],
      "metadata": {
        "colab": {
          "base_uri": "https://localhost:8080/",
          "height": 206
        },
        "id": "0164jebpVU_w",
        "outputId": "f12abc01-68a5-4549-df77-9ad8d2deb5de"
      },
      "execution_count": null,
      "outputs": [
        {
          "output_type": "execute_result",
          "data": {
            "text/plain": [
              "         Date    Open    High     Low    Last   Close  Total Trade Quantity  \\\n",
              "0  2018-09-28  234.05  235.95  230.20  233.50  233.75               3069914   \n",
              "1  2018-09-27  234.55  236.80  231.10  233.80  233.25               5082859   \n",
              "2  2018-09-26  240.00  240.00  232.50  235.00  234.25               2240909   \n",
              "3  2018-09-25  233.30  236.75  232.00  236.25  236.10               2349368   \n",
              "4  2018-09-24  233.55  239.20  230.75  234.00  233.30               3423509   \n",
              "\n",
              "   Turnover (Lacs)  \n",
              "0          7162.35  \n",
              "1         11859.95  \n",
              "2          5248.60  \n",
              "3          5503.90  \n",
              "4          7999.55  "
            ],
            "text/html": [
              "\n",
              "  <div id=\"df-8457fb92-c7f0-44b3-971b-70e3a3859531\">\n",
              "    <div class=\"colab-df-container\">\n",
              "      <div>\n",
              "<style scoped>\n",
              "    .dataframe tbody tr th:only-of-type {\n",
              "        vertical-align: middle;\n",
              "    }\n",
              "\n",
              "    .dataframe tbody tr th {\n",
              "        vertical-align: top;\n",
              "    }\n",
              "\n",
              "    .dataframe thead th {\n",
              "        text-align: right;\n",
              "    }\n",
              "</style>\n",
              "<table border=\"1\" class=\"dataframe\">\n",
              "  <thead>\n",
              "    <tr style=\"text-align: right;\">\n",
              "      <th></th>\n",
              "      <th>Date</th>\n",
              "      <th>Open</th>\n",
              "      <th>High</th>\n",
              "      <th>Low</th>\n",
              "      <th>Last</th>\n",
              "      <th>Close</th>\n",
              "      <th>Total Trade Quantity</th>\n",
              "      <th>Turnover (Lacs)</th>\n",
              "    </tr>\n",
              "  </thead>\n",
              "  <tbody>\n",
              "    <tr>\n",
              "      <th>0</th>\n",
              "      <td>2018-09-28</td>\n",
              "      <td>234.05</td>\n",
              "      <td>235.95</td>\n",
              "      <td>230.20</td>\n",
              "      <td>233.50</td>\n",
              "      <td>233.75</td>\n",
              "      <td>3069914</td>\n",
              "      <td>7162.35</td>\n",
              "    </tr>\n",
              "    <tr>\n",
              "      <th>1</th>\n",
              "      <td>2018-09-27</td>\n",
              "      <td>234.55</td>\n",
              "      <td>236.80</td>\n",
              "      <td>231.10</td>\n",
              "      <td>233.80</td>\n",
              "      <td>233.25</td>\n",
              "      <td>5082859</td>\n",
              "      <td>11859.95</td>\n",
              "    </tr>\n",
              "    <tr>\n",
              "      <th>2</th>\n",
              "      <td>2018-09-26</td>\n",
              "      <td>240.00</td>\n",
              "      <td>240.00</td>\n",
              "      <td>232.50</td>\n",
              "      <td>235.00</td>\n",
              "      <td>234.25</td>\n",
              "      <td>2240909</td>\n",
              "      <td>5248.60</td>\n",
              "    </tr>\n",
              "    <tr>\n",
              "      <th>3</th>\n",
              "      <td>2018-09-25</td>\n",
              "      <td>233.30</td>\n",
              "      <td>236.75</td>\n",
              "      <td>232.00</td>\n",
              "      <td>236.25</td>\n",
              "      <td>236.10</td>\n",
              "      <td>2349368</td>\n",
              "      <td>5503.90</td>\n",
              "    </tr>\n",
              "    <tr>\n",
              "      <th>4</th>\n",
              "      <td>2018-09-24</td>\n",
              "      <td>233.55</td>\n",
              "      <td>239.20</td>\n",
              "      <td>230.75</td>\n",
              "      <td>234.00</td>\n",
              "      <td>233.30</td>\n",
              "      <td>3423509</td>\n",
              "      <td>7999.55</td>\n",
              "    </tr>\n",
              "  </tbody>\n",
              "</table>\n",
              "</div>\n",
              "      <button class=\"colab-df-convert\" onclick=\"convertToInteractive('df-8457fb92-c7f0-44b3-971b-70e3a3859531')\"\n",
              "              title=\"Convert this dataframe to an interactive table.\"\n",
              "              style=\"display:none;\">\n",
              "        \n",
              "  <svg xmlns=\"http://www.w3.org/2000/svg\" height=\"24px\"viewBox=\"0 0 24 24\"\n",
              "       width=\"24px\">\n",
              "    <path d=\"M0 0h24v24H0V0z\" fill=\"none\"/>\n",
              "    <path d=\"M18.56 5.44l.94 2.06.94-2.06 2.06-.94-2.06-.94-.94-2.06-.94 2.06-2.06.94zm-11 1L8.5 8.5l.94-2.06 2.06-.94-2.06-.94L8.5 2.5l-.94 2.06-2.06.94zm10 10l.94 2.06.94-2.06 2.06-.94-2.06-.94-.94-2.06-.94 2.06-2.06.94z\"/><path d=\"M17.41 7.96l-1.37-1.37c-.4-.4-.92-.59-1.43-.59-.52 0-1.04.2-1.43.59L10.3 9.45l-7.72 7.72c-.78.78-.78 2.05 0 2.83L4 21.41c.39.39.9.59 1.41.59.51 0 1.02-.2 1.41-.59l7.78-7.78 2.81-2.81c.8-.78.8-2.07 0-2.86zM5.41 20L4 18.59l7.72-7.72 1.47 1.35L5.41 20z\"/>\n",
              "  </svg>\n",
              "      </button>\n",
              "      \n",
              "  <style>\n",
              "    .colab-df-container {\n",
              "      display:flex;\n",
              "      flex-wrap:wrap;\n",
              "      gap: 12px;\n",
              "    }\n",
              "\n",
              "    .colab-df-convert {\n",
              "      background-color: #E8F0FE;\n",
              "      border: none;\n",
              "      border-radius: 50%;\n",
              "      cursor: pointer;\n",
              "      display: none;\n",
              "      fill: #1967D2;\n",
              "      height: 32px;\n",
              "      padding: 0 0 0 0;\n",
              "      width: 32px;\n",
              "    }\n",
              "\n",
              "    .colab-df-convert:hover {\n",
              "      background-color: #E2EBFA;\n",
              "      box-shadow: 0px 1px 2px rgba(60, 64, 67, 0.3), 0px 1px 3px 1px rgba(60, 64, 67, 0.15);\n",
              "      fill: #174EA6;\n",
              "    }\n",
              "\n",
              "    [theme=dark] .colab-df-convert {\n",
              "      background-color: #3B4455;\n",
              "      fill: #D2E3FC;\n",
              "    }\n",
              "\n",
              "    [theme=dark] .colab-df-convert:hover {\n",
              "      background-color: #434B5C;\n",
              "      box-shadow: 0px 1px 3px 1px rgba(0, 0, 0, 0.15);\n",
              "      filter: drop-shadow(0px 1px 2px rgba(0, 0, 0, 0.3));\n",
              "      fill: #FFFFFF;\n",
              "    }\n",
              "  </style>\n",
              "\n",
              "      <script>\n",
              "        const buttonEl =\n",
              "          document.querySelector('#df-8457fb92-c7f0-44b3-971b-70e3a3859531 button.colab-df-convert');\n",
              "        buttonEl.style.display =\n",
              "          google.colab.kernel.accessAllowed ? 'block' : 'none';\n",
              "\n",
              "        async function convertToInteractive(key) {\n",
              "          const element = document.querySelector('#df-8457fb92-c7f0-44b3-971b-70e3a3859531');\n",
              "          const dataTable =\n",
              "            await google.colab.kernel.invokeFunction('convertToInteractive',\n",
              "                                                     [key], {});\n",
              "          if (!dataTable) return;\n",
              "\n",
              "          const docLinkHtml = 'Like what you see? Visit the ' +\n",
              "            '<a target=\"_blank\" href=https://colab.research.google.com/notebooks/data_table.ipynb>data table notebook</a>'\n",
              "            + ' to learn more about interactive tables.';\n",
              "          element.innerHTML = '';\n",
              "          dataTable['output_type'] = 'display_data';\n",
              "          await google.colab.output.renderOutput(dataTable, element);\n",
              "          const docLink = document.createElement('div');\n",
              "          docLink.innerHTML = docLinkHtml;\n",
              "          element.appendChild(docLink);\n",
              "        }\n",
              "      </script>\n",
              "    </div>\n",
              "  </div>\n",
              "  "
            ]
          },
          "metadata": {},
          "execution_count": 2
        }
      ]
    },
    {
      "cell_type": "markdown",
      "source": [
        "Data Description:-\n",
        "\n",
        "Open: The price of the stock when the market opens in the morning\n",
        "\n",
        "Close: The price of the stock when the market closed in the evening\n",
        "\n",
        "High: Highest price the stock reached during that day\n",
        "\n",
        "Low: Lowest price the stock is traded on that day\n",
        "\n",
        "Volume: The total amount of stocks traded on that day"
      ],
      "metadata": {
        "id": "vGQOMAfNZxvr"
      }
    },
    {
      "cell_type": "code",
      "source": [
        "#Number of rows and columns of data\n",
        "\n",
        "data.shape     "
      ],
      "metadata": {
        "colab": {
          "base_uri": "https://localhost:8080/"
        },
        "id": "uFN80UDUa29d",
        "outputId": "6452d129-8000-4631-ecda-e405b2df2328"
      },
      "execution_count": null,
      "outputs": [
        {
          "output_type": "execute_result",
          "data": {
            "text/plain": [
              "(2035, 8)"
            ]
          },
          "metadata": {},
          "execution_count": 3
        }
      ]
    },
    {
      "cell_type": "code",
      "source": [
        "data.info()"
      ],
      "metadata": {
        "colab": {
          "base_uri": "https://localhost:8080/"
        },
        "id": "ofDQKR5NbCrV",
        "outputId": "7ddbc498-5928-4892-aa49-2add52a3c0b2"
      },
      "execution_count": null,
      "outputs": [
        {
          "output_type": "stream",
          "name": "stdout",
          "text": [
            "<class 'pandas.core.frame.DataFrame'>\n",
            "RangeIndex: 2035 entries, 0 to 2034\n",
            "Data columns (total 8 columns):\n",
            " #   Column                Non-Null Count  Dtype  \n",
            "---  ------                --------------  -----  \n",
            " 0   Date                  2035 non-null   object \n",
            " 1   Open                  2035 non-null   float64\n",
            " 2   High                  2035 non-null   float64\n",
            " 3   Low                   2035 non-null   float64\n",
            " 4   Last                  2035 non-null   float64\n",
            " 5   Close                 2035 non-null   float64\n",
            " 6   Total Trade Quantity  2035 non-null   int64  \n",
            " 7   Turnover (Lacs)       2035 non-null   float64\n",
            "dtypes: float64(6), int64(1), object(1)\n",
            "memory usage: 127.3+ KB\n"
          ]
        }
      ]
    },
    {
      "cell_type": "code",
      "source": [
        "# Checking Null Values in the data\n",
        "data.isnull().sum()"
      ],
      "metadata": {
        "colab": {
          "base_uri": "https://localhost:8080/"
        },
        "id": "-6XNHJO9bIV8",
        "outputId": "4a032552-7fb3-4ad1-e54e-bd95d53ff398"
      },
      "execution_count": null,
      "outputs": [
        {
          "output_type": "execute_result",
          "data": {
            "text/plain": [
              "Date                    0\n",
              "Open                    0\n",
              "High                    0\n",
              "Low                     0\n",
              "Last                    0\n",
              "Close                   0\n",
              "Total Trade Quantity    0\n",
              "Turnover (Lacs)         0\n",
              "dtype: int64"
            ]
          },
          "metadata": {},
          "execution_count": 5
        }
      ]
    },
    {
      "cell_type": "code",
      "source": [
        "data.describe()"
      ],
      "metadata": {
        "colab": {
          "base_uri": "https://localhost:8080/",
          "height": 300
        },
        "id": "JeXnbUAnbWg1",
        "outputId": "47e3b9e1-cc18-4ddd-8b0a-6d99418b0f8a"
      },
      "execution_count": null,
      "outputs": [
        {
          "output_type": "execute_result",
          "data": {
            "text/plain": [
              "              Open         High          Low         Last       Close  \\\n",
              "count  2035.000000  2035.000000  2035.000000  2035.000000  2035.00000   \n",
              "mean    149.713735   151.992826   147.293931   149.474251   149.45027   \n",
              "std      48.664509    49.413109    47.931958    48.732570    48.71204   \n",
              "min      81.100000    82.800000    80.000000    81.000000    80.95000   \n",
              "25%     120.025000   122.100000   118.300000   120.075000   120.05000   \n",
              "50%     141.500000   143.400000   139.600000   141.100000   141.25000   \n",
              "75%     157.175000   159.400000   155.150000   156.925000   156.90000   \n",
              "max     327.700000   328.750000   321.650000   325.950000   325.75000   \n",
              "\n",
              "       Total Trade Quantity  Turnover (Lacs)  \n",
              "count          2.035000e+03      2035.000000  \n",
              "mean           2.335681e+06      3899.980565  \n",
              "std            2.091778e+06      4570.767877  \n",
              "min            3.961000e+04        37.040000  \n",
              "25%            1.146444e+06      1427.460000  \n",
              "50%            1.783456e+06      2512.030000  \n",
              "75%            2.813594e+06      4539.015000  \n",
              "max            2.919102e+07     55755.080000  "
            ],
            "text/html": [
              "\n",
              "  <div id=\"df-bf7fbe01-b46c-4eff-a528-dd5d1208ef67\">\n",
              "    <div class=\"colab-df-container\">\n",
              "      <div>\n",
              "<style scoped>\n",
              "    .dataframe tbody tr th:only-of-type {\n",
              "        vertical-align: middle;\n",
              "    }\n",
              "\n",
              "    .dataframe tbody tr th {\n",
              "        vertical-align: top;\n",
              "    }\n",
              "\n",
              "    .dataframe thead th {\n",
              "        text-align: right;\n",
              "    }\n",
              "</style>\n",
              "<table border=\"1\" class=\"dataframe\">\n",
              "  <thead>\n",
              "    <tr style=\"text-align: right;\">\n",
              "      <th></th>\n",
              "      <th>Open</th>\n",
              "      <th>High</th>\n",
              "      <th>Low</th>\n",
              "      <th>Last</th>\n",
              "      <th>Close</th>\n",
              "      <th>Total Trade Quantity</th>\n",
              "      <th>Turnover (Lacs)</th>\n",
              "    </tr>\n",
              "  </thead>\n",
              "  <tbody>\n",
              "    <tr>\n",
              "      <th>count</th>\n",
              "      <td>2035.000000</td>\n",
              "      <td>2035.000000</td>\n",
              "      <td>2035.000000</td>\n",
              "      <td>2035.000000</td>\n",
              "      <td>2035.00000</td>\n",
              "      <td>2.035000e+03</td>\n",
              "      <td>2035.000000</td>\n",
              "    </tr>\n",
              "    <tr>\n",
              "      <th>mean</th>\n",
              "      <td>149.713735</td>\n",
              "      <td>151.992826</td>\n",
              "      <td>147.293931</td>\n",
              "      <td>149.474251</td>\n",
              "      <td>149.45027</td>\n",
              "      <td>2.335681e+06</td>\n",
              "      <td>3899.980565</td>\n",
              "    </tr>\n",
              "    <tr>\n",
              "      <th>std</th>\n",
              "      <td>48.664509</td>\n",
              "      <td>49.413109</td>\n",
              "      <td>47.931958</td>\n",
              "      <td>48.732570</td>\n",
              "      <td>48.71204</td>\n",
              "      <td>2.091778e+06</td>\n",
              "      <td>4570.767877</td>\n",
              "    </tr>\n",
              "    <tr>\n",
              "      <th>min</th>\n",
              "      <td>81.100000</td>\n",
              "      <td>82.800000</td>\n",
              "      <td>80.000000</td>\n",
              "      <td>81.000000</td>\n",
              "      <td>80.95000</td>\n",
              "      <td>3.961000e+04</td>\n",
              "      <td>37.040000</td>\n",
              "    </tr>\n",
              "    <tr>\n",
              "      <th>25%</th>\n",
              "      <td>120.025000</td>\n",
              "      <td>122.100000</td>\n",
              "      <td>118.300000</td>\n",
              "      <td>120.075000</td>\n",
              "      <td>120.05000</td>\n",
              "      <td>1.146444e+06</td>\n",
              "      <td>1427.460000</td>\n",
              "    </tr>\n",
              "    <tr>\n",
              "      <th>50%</th>\n",
              "      <td>141.500000</td>\n",
              "      <td>143.400000</td>\n",
              "      <td>139.600000</td>\n",
              "      <td>141.100000</td>\n",
              "      <td>141.25000</td>\n",
              "      <td>1.783456e+06</td>\n",
              "      <td>2512.030000</td>\n",
              "    </tr>\n",
              "    <tr>\n",
              "      <th>75%</th>\n",
              "      <td>157.175000</td>\n",
              "      <td>159.400000</td>\n",
              "      <td>155.150000</td>\n",
              "      <td>156.925000</td>\n",
              "      <td>156.90000</td>\n",
              "      <td>2.813594e+06</td>\n",
              "      <td>4539.015000</td>\n",
              "    </tr>\n",
              "    <tr>\n",
              "      <th>max</th>\n",
              "      <td>327.700000</td>\n",
              "      <td>328.750000</td>\n",
              "      <td>321.650000</td>\n",
              "      <td>325.950000</td>\n",
              "      <td>325.75000</td>\n",
              "      <td>2.919102e+07</td>\n",
              "      <td>55755.080000</td>\n",
              "    </tr>\n",
              "  </tbody>\n",
              "</table>\n",
              "</div>\n",
              "      <button class=\"colab-df-convert\" onclick=\"convertToInteractive('df-bf7fbe01-b46c-4eff-a528-dd5d1208ef67')\"\n",
              "              title=\"Convert this dataframe to an interactive table.\"\n",
              "              style=\"display:none;\">\n",
              "        \n",
              "  <svg xmlns=\"http://www.w3.org/2000/svg\" height=\"24px\"viewBox=\"0 0 24 24\"\n",
              "       width=\"24px\">\n",
              "    <path d=\"M0 0h24v24H0V0z\" fill=\"none\"/>\n",
              "    <path d=\"M18.56 5.44l.94 2.06.94-2.06 2.06-.94-2.06-.94-.94-2.06-.94 2.06-2.06.94zm-11 1L8.5 8.5l.94-2.06 2.06-.94-2.06-.94L8.5 2.5l-.94 2.06-2.06.94zm10 10l.94 2.06.94-2.06 2.06-.94-2.06-.94-.94-2.06-.94 2.06-2.06.94z\"/><path d=\"M17.41 7.96l-1.37-1.37c-.4-.4-.92-.59-1.43-.59-.52 0-1.04.2-1.43.59L10.3 9.45l-7.72 7.72c-.78.78-.78 2.05 0 2.83L4 21.41c.39.39.9.59 1.41.59.51 0 1.02-.2 1.41-.59l7.78-7.78 2.81-2.81c.8-.78.8-2.07 0-2.86zM5.41 20L4 18.59l7.72-7.72 1.47 1.35L5.41 20z\"/>\n",
              "  </svg>\n",
              "      </button>\n",
              "      \n",
              "  <style>\n",
              "    .colab-df-container {\n",
              "      display:flex;\n",
              "      flex-wrap:wrap;\n",
              "      gap: 12px;\n",
              "    }\n",
              "\n",
              "    .colab-df-convert {\n",
              "      background-color: #E8F0FE;\n",
              "      border: none;\n",
              "      border-radius: 50%;\n",
              "      cursor: pointer;\n",
              "      display: none;\n",
              "      fill: #1967D2;\n",
              "      height: 32px;\n",
              "      padding: 0 0 0 0;\n",
              "      width: 32px;\n",
              "    }\n",
              "\n",
              "    .colab-df-convert:hover {\n",
              "      background-color: #E2EBFA;\n",
              "      box-shadow: 0px 1px 2px rgba(60, 64, 67, 0.3), 0px 1px 3px 1px rgba(60, 64, 67, 0.15);\n",
              "      fill: #174EA6;\n",
              "    }\n",
              "\n",
              "    [theme=dark] .colab-df-convert {\n",
              "      background-color: #3B4455;\n",
              "      fill: #D2E3FC;\n",
              "    }\n",
              "\n",
              "    [theme=dark] .colab-df-convert:hover {\n",
              "      background-color: #434B5C;\n",
              "      box-shadow: 0px 1px 3px 1px rgba(0, 0, 0, 0.15);\n",
              "      filter: drop-shadow(0px 1px 2px rgba(0, 0, 0, 0.3));\n",
              "      fill: #FFFFFF;\n",
              "    }\n",
              "  </style>\n",
              "\n",
              "      <script>\n",
              "        const buttonEl =\n",
              "          document.querySelector('#df-bf7fbe01-b46c-4eff-a528-dd5d1208ef67 button.colab-df-convert');\n",
              "        buttonEl.style.display =\n",
              "          google.colab.kernel.accessAllowed ? 'block' : 'none';\n",
              "\n",
              "        async function convertToInteractive(key) {\n",
              "          const element = document.querySelector('#df-bf7fbe01-b46c-4eff-a528-dd5d1208ef67');\n",
              "          const dataTable =\n",
              "            await google.colab.kernel.invokeFunction('convertToInteractive',\n",
              "                                                     [key], {});\n",
              "          if (!dataTable) return;\n",
              "\n",
              "          const docLinkHtml = 'Like what you see? Visit the ' +\n",
              "            '<a target=\"_blank\" href=https://colab.research.google.com/notebooks/data_table.ipynb>data table notebook</a>'\n",
              "            + ' to learn more about interactive tables.';\n",
              "          element.innerHTML = '';\n",
              "          dataTable['output_type'] = 'display_data';\n",
              "          await google.colab.output.renderOutput(dataTable, element);\n",
              "          const docLink = document.createElement('div');\n",
              "          docLink.innerHTML = docLinkHtml;\n",
              "          element.appendChild(docLink);\n",
              "        }\n",
              "      </script>\n",
              "    </div>\n",
              "  </div>\n",
              "  "
            ]
          },
          "metadata": {},
          "execution_count": 6
        }
      ]
    },
    {
      "cell_type": "markdown",
      "source": [
        "# Data sorting"
      ],
      "metadata": {
        "id": "lBn1GXpXVzf8"
      }
    },
    {
      "cell_type": "code",
      "source": [
        "data['Date']=pd.to_datetime(data['Date'])\n",
        "print(type(data.Date[0]))"
      ],
      "metadata": {
        "colab": {
          "base_uri": "https://localhost:8080/"
        },
        "id": "Iy1Lvk4xVYjd",
        "outputId": "cded51b8-c7dd-47ac-fbe8-b50ab092fa0b"
      },
      "execution_count": null,
      "outputs": [
        {
          "output_type": "stream",
          "name": "stdout",
          "text": [
            "<class 'pandas._libs.tslibs.timestamps.Timestamp'>\n"
          ]
        }
      ]
    },
    {
      "cell_type": "code",
      "source": [
        "df=data.sort_values(by='Date')\n",
        "df.head()"
      ],
      "metadata": {
        "colab": {
          "base_uri": "https://localhost:8080/",
          "height": 206
        },
        "id": "oPvbXwC7Vb9Z",
        "outputId": "fd85a6ba-82ac-4d4f-dcc7-0310390620a0"
      },
      "execution_count": null,
      "outputs": [
        {
          "output_type": "execute_result",
          "data": {
            "text/plain": [
              "           Date   Open    High     Low    Last   Close  Total Trade Quantity  \\\n",
              "2034 2010-07-21  122.1  123.00  121.05  121.10  121.55                658666   \n",
              "2033 2010-07-22  120.3  122.00  120.25  120.75  120.90                293312   \n",
              "2032 2010-07-23  121.8  121.95  120.25  120.35  120.65                281312   \n",
              "2031 2010-07-26  120.1  121.00  117.10  117.10  117.60                658440   \n",
              "2030 2010-07-27  117.6  119.50  112.00  118.80  118.65                586100   \n",
              "\n",
              "      Turnover (Lacs)  \n",
              "2034           803.56  \n",
              "2033           355.17  \n",
              "2032           340.31  \n",
              "2031           780.01  \n",
              "2030           694.98  "
            ],
            "text/html": [
              "\n",
              "  <div id=\"df-98cf3940-a795-41b7-b27e-dbaeb55fa625\">\n",
              "    <div class=\"colab-df-container\">\n",
              "      <div>\n",
              "<style scoped>\n",
              "    .dataframe tbody tr th:only-of-type {\n",
              "        vertical-align: middle;\n",
              "    }\n",
              "\n",
              "    .dataframe tbody tr th {\n",
              "        vertical-align: top;\n",
              "    }\n",
              "\n",
              "    .dataframe thead th {\n",
              "        text-align: right;\n",
              "    }\n",
              "</style>\n",
              "<table border=\"1\" class=\"dataframe\">\n",
              "  <thead>\n",
              "    <tr style=\"text-align: right;\">\n",
              "      <th></th>\n",
              "      <th>Date</th>\n",
              "      <th>Open</th>\n",
              "      <th>High</th>\n",
              "      <th>Low</th>\n",
              "      <th>Last</th>\n",
              "      <th>Close</th>\n",
              "      <th>Total Trade Quantity</th>\n",
              "      <th>Turnover (Lacs)</th>\n",
              "    </tr>\n",
              "  </thead>\n",
              "  <tbody>\n",
              "    <tr>\n",
              "      <th>2034</th>\n",
              "      <td>2010-07-21</td>\n",
              "      <td>122.1</td>\n",
              "      <td>123.00</td>\n",
              "      <td>121.05</td>\n",
              "      <td>121.10</td>\n",
              "      <td>121.55</td>\n",
              "      <td>658666</td>\n",
              "      <td>803.56</td>\n",
              "    </tr>\n",
              "    <tr>\n",
              "      <th>2033</th>\n",
              "      <td>2010-07-22</td>\n",
              "      <td>120.3</td>\n",
              "      <td>122.00</td>\n",
              "      <td>120.25</td>\n",
              "      <td>120.75</td>\n",
              "      <td>120.90</td>\n",
              "      <td>293312</td>\n",
              "      <td>355.17</td>\n",
              "    </tr>\n",
              "    <tr>\n",
              "      <th>2032</th>\n",
              "      <td>2010-07-23</td>\n",
              "      <td>121.8</td>\n",
              "      <td>121.95</td>\n",
              "      <td>120.25</td>\n",
              "      <td>120.35</td>\n",
              "      <td>120.65</td>\n",
              "      <td>281312</td>\n",
              "      <td>340.31</td>\n",
              "    </tr>\n",
              "    <tr>\n",
              "      <th>2031</th>\n",
              "      <td>2010-07-26</td>\n",
              "      <td>120.1</td>\n",
              "      <td>121.00</td>\n",
              "      <td>117.10</td>\n",
              "      <td>117.10</td>\n",
              "      <td>117.60</td>\n",
              "      <td>658440</td>\n",
              "      <td>780.01</td>\n",
              "    </tr>\n",
              "    <tr>\n",
              "      <th>2030</th>\n",
              "      <td>2010-07-27</td>\n",
              "      <td>117.6</td>\n",
              "      <td>119.50</td>\n",
              "      <td>112.00</td>\n",
              "      <td>118.80</td>\n",
              "      <td>118.65</td>\n",
              "      <td>586100</td>\n",
              "      <td>694.98</td>\n",
              "    </tr>\n",
              "  </tbody>\n",
              "</table>\n",
              "</div>\n",
              "      <button class=\"colab-df-convert\" onclick=\"convertToInteractive('df-98cf3940-a795-41b7-b27e-dbaeb55fa625')\"\n",
              "              title=\"Convert this dataframe to an interactive table.\"\n",
              "              style=\"display:none;\">\n",
              "        \n",
              "  <svg xmlns=\"http://www.w3.org/2000/svg\" height=\"24px\"viewBox=\"0 0 24 24\"\n",
              "       width=\"24px\">\n",
              "    <path d=\"M0 0h24v24H0V0z\" fill=\"none\"/>\n",
              "    <path d=\"M18.56 5.44l.94 2.06.94-2.06 2.06-.94-2.06-.94-.94-2.06-.94 2.06-2.06.94zm-11 1L8.5 8.5l.94-2.06 2.06-.94-2.06-.94L8.5 2.5l-.94 2.06-2.06.94zm10 10l.94 2.06.94-2.06 2.06-.94-2.06-.94-.94-2.06-.94 2.06-2.06.94z\"/><path d=\"M17.41 7.96l-1.37-1.37c-.4-.4-.92-.59-1.43-.59-.52 0-1.04.2-1.43.59L10.3 9.45l-7.72 7.72c-.78.78-.78 2.05 0 2.83L4 21.41c.39.39.9.59 1.41.59.51 0 1.02-.2 1.41-.59l7.78-7.78 2.81-2.81c.8-.78.8-2.07 0-2.86zM5.41 20L4 18.59l7.72-7.72 1.47 1.35L5.41 20z\"/>\n",
              "  </svg>\n",
              "      </button>\n",
              "      \n",
              "  <style>\n",
              "    .colab-df-container {\n",
              "      display:flex;\n",
              "      flex-wrap:wrap;\n",
              "      gap: 12px;\n",
              "    }\n",
              "\n",
              "    .colab-df-convert {\n",
              "      background-color: #E8F0FE;\n",
              "      border: none;\n",
              "      border-radius: 50%;\n",
              "      cursor: pointer;\n",
              "      display: none;\n",
              "      fill: #1967D2;\n",
              "      height: 32px;\n",
              "      padding: 0 0 0 0;\n",
              "      width: 32px;\n",
              "    }\n",
              "\n",
              "    .colab-df-convert:hover {\n",
              "      background-color: #E2EBFA;\n",
              "      box-shadow: 0px 1px 2px rgba(60, 64, 67, 0.3), 0px 1px 3px 1px rgba(60, 64, 67, 0.15);\n",
              "      fill: #174EA6;\n",
              "    }\n",
              "\n",
              "    [theme=dark] .colab-df-convert {\n",
              "      background-color: #3B4455;\n",
              "      fill: #D2E3FC;\n",
              "    }\n",
              "\n",
              "    [theme=dark] .colab-df-convert:hover {\n",
              "      background-color: #434B5C;\n",
              "      box-shadow: 0px 1px 3px 1px rgba(0, 0, 0, 0.15);\n",
              "      filter: drop-shadow(0px 1px 2px rgba(0, 0, 0, 0.3));\n",
              "      fill: #FFFFFF;\n",
              "    }\n",
              "  </style>\n",
              "\n",
              "      <script>\n",
              "        const buttonEl =\n",
              "          document.querySelector('#df-98cf3940-a795-41b7-b27e-dbaeb55fa625 button.colab-df-convert');\n",
              "        buttonEl.style.display =\n",
              "          google.colab.kernel.accessAllowed ? 'block' : 'none';\n",
              "\n",
              "        async function convertToInteractive(key) {\n",
              "          const element = document.querySelector('#df-98cf3940-a795-41b7-b27e-dbaeb55fa625');\n",
              "          const dataTable =\n",
              "            await google.colab.kernel.invokeFunction('convertToInteractive',\n",
              "                                                     [key], {});\n",
              "          if (!dataTable) return;\n",
              "\n",
              "          const docLinkHtml = 'Like what you see? Visit the ' +\n",
              "            '<a target=\"_blank\" href=https://colab.research.google.com/notebooks/data_table.ipynb>data table notebook</a>'\n",
              "            + ' to learn more about interactive tables.';\n",
              "          element.innerHTML = '';\n",
              "          dataTable['output_type'] = 'display_data';\n",
              "          await google.colab.output.renderOutput(dataTable, element);\n",
              "          const docLink = document.createElement('div');\n",
              "          docLink.innerHTML = docLinkHtml;\n",
              "          element.appendChild(docLink);\n",
              "        }\n",
              "      </script>\n",
              "    </div>\n",
              "  </div>\n",
              "  "
            ]
          },
          "metadata": {},
          "execution_count": 8
        }
      ]
    },
    {
      "cell_type": "markdown",
      "source": [
        "\n",
        "## Visualization"
      ],
      "metadata": {
        "id": "9vvaVPBsV3Mj"
      }
    },
    {
      "cell_type": "code",
      "source": [
        "plt.plot(df['Close'])"
      ],
      "metadata": {
        "colab": {
          "base_uri": "https://localhost:8080/",
          "height": 283
        },
        "id": "RpuDgwXaVfIm",
        "outputId": "24019c99-3eb1-42ad-9e25-67659c90b930"
      },
      "execution_count": null,
      "outputs": [
        {
          "output_type": "execute_result",
          "data": {
            "text/plain": [
              "[<matplotlib.lines.Line2D at 0x7fb237ae6dd0>]"
            ]
          },
          "metadata": {},
          "execution_count": 9
        },
        {
          "output_type": "display_data",
          "data": {
            "text/plain": [
              "<Figure size 432x288 with 1 Axes>"
            ],
            "image/png": "[encoded data removed]"
          },
          "metadata": {
            "needs_background": "light"
          }
        }
      ]
    },
    {
      "cell_type": "code",
      "source": [
        "dff=df['Close']\n",
        "dff"
      ],
      "metadata": {
        "colab": {
          "base_uri": "https://localhost:8080/"
        },
        "id": "UKlT9MJOViBV",
        "outputId": "72418311-2a5f-499d-f2d9-424d1db586a1"
      },
      "execution_count": null,
      "outputs": [
        {
          "output_type": "execute_result",
          "data": {
            "text/plain": [
              "2034    121.55\n",
              "2033    120.90\n",
              "2032    120.65\n",
              "2031    117.60\n",
              "2030    118.65\n",
              "         ...  \n",
              "4       233.30\n",
              "3       236.10\n",
              "2       234.25\n",
              "1       233.25\n",
              "0       233.75\n",
              "Name: Close, Length: 2035, dtype: float64"
            ]
          },
          "metadata": {},
          "execution_count": 10
        }
      ]
    },
    {
      "cell_type": "markdown",
      "source": [
        "#LSTM are sensitive to the scale of the data. so we apply MinMax scaler\n",
        "\n",
        "LSTMs are widely used for sequence prediction problems and have proven to be extremely effective. The reason they work so well is that LSTM can store past important information and forget the information that is not. LSTM has three gates:\n",
        "\n",
        "* The input gate: The input gate adds information to the cell state,\n",
        "* The forget gate: It removes the information that is no longer required by the model,\n",
        "* The output gate: Output Gate at LSTM selects the information to be shown as output\n",
        "\n"
      ],
      "metadata": {
        "id": "oREHgtRpbkK7"
      }
    },
    {
      "cell_type": "markdown",
      "source": [
        "### MIN MAX Scaler"
      ],
      "metadata": {
        "id": "lR3mbkGBV738"
      }
    },
    {
      "cell_type": "code",
      "source": [
        "scaler=MinMaxScaler(feature_range=(0,1))\n",
        "dff=scaler.fit_transform(np.array(dff).reshape(-1,1))\n",
        "dff"
      ],
      "metadata": {
        "colab": {
          "base_uri": "https://localhost:8080/"
        },
        "id": "uHOxydsDVmIG",
        "outputId": "014d8d83-5eab-4054-c406-ef0be6dd6233"
      },
      "execution_count": null,
      "outputs": [
        {
          "output_type": "execute_result",
          "data": {
            "text/plain": [
              "array([[0.16584967],\n",
              "       [0.16319444],\n",
              "       [0.1621732 ],\n",
              "       ...,\n",
              "       [0.62622549],\n",
              "       [0.62214052],\n",
              "       [0.62418301]])"
            ]
          },
          "metadata": {},
          "execution_count": 11
        }
      ]
    },
    {
      "cell_type": "markdown",
      "source": [
        "## Spliting The Dataset"
      ],
      "metadata": {
        "id": "61u2rlgZV_gN"
      }
    },
    {
      "cell_type": "code",
      "source": [
        "training_size=int(len(dff)*0.70)\n",
        "test_size=len(dff)-training_size\n",
        "train_data,test_data=dff[0:training_size,:],dff[training_size:len(dff),:1]"
      ],
      "metadata": {
        "id": "TavEY18qVptN"
      },
      "execution_count": null,
      "outputs": []
    },
    {
      "cell_type": "markdown",
      "source": [
        "\n",
        "Convert an array of values into a dataset Matrixconvert an array of values into a dataset Matrix"
      ],
      "metadata": {
        "id": "XqWcEIHRWFG8"
      }
    },
    {
      "cell_type": "code",
      "source": [
        "def create_dataset(dataset, time_step=1):\n",
        "    dataX, dataY = [], []\n",
        "    for i in range(len(dataset)-time_step-1):\n",
        "        a = dataset[i:(i+time_step), 0]   \n",
        "        dataX.append(a)\n",
        "        dataY.append(dataset[i + time_step, 0])\n",
        "    return np.array(dataX), np.array(dataY)"
      ],
      "metadata": {
        "id": "dpBSje3xWCxm"
      },
      "execution_count": null,
      "outputs": []
    },
    {
      "cell_type": "markdown",
      "source": [
        "## Spliting Data into Train and Test"
      ],
      "metadata": {
        "id": "lBOY0QnEWLQt"
      }
    },
    {
      "cell_type": "code",
      "source": [
        "time_step = 100\n",
        "X_train, y_train = create_dataset(train_data, time_step)\n",
        "X_test, ytest = create_dataset(test_data, time_step)"
      ],
      "metadata": {
        "id": "tEjr9OstWIWS"
      },
      "execution_count": null,
      "outputs": []
    },
    {
      "cell_type": "code",
      "source": [
        "print(X_train.shape), print(y_train.shape)"
      ],
      "metadata": {
        "colab": {
          "base_uri": "https://localhost:8080/"
        },
        "id": "w9gx3bmfWNyP",
        "outputId": "145d6a8e-09e4-48f7-edfc-e250e357dc81"
      },
      "execution_count": null,
      "outputs": [
        {
          "output_type": "stream",
          "name": "stdout",
          "text": [
            "(1323, 100)\n",
            "(1323,)\n"
          ]
        },
        {
          "output_type": "execute_result",
          "data": {
            "text/plain": [
              "(None, None)"
            ]
          },
          "metadata": {},
          "execution_count": 15
        }
      ]
    },
    {
      "cell_type": "code",
      "source": [
        "X_train =X_train.reshape(X_train.shape[0],X_train.shape[1] , 1)\n",
        "X_test = X_test.reshape(X_test.shape[0],X_test.shape[1] , 1)"
      ],
      "metadata": {
        "id": "WzE2kyVQWRWi"
      },
      "execution_count": null,
      "outputs": []
    },
    {
      "cell_type": "markdown",
      "source": [
        "## Creating the LSTM Model"
      ],
      "metadata": {
        "id": "a_pOEq7PWWmL"
      }
    },
    {
      "cell_type": "code",
      "source": [
        "model=Sequential()\n",
        "model.add(LSTM(50,return_sequences=True,input_shape=(100,1)))\n",
        "model.add(LSTM(50,return_sequences=True))\n",
        "model.add(LSTM(50))\n",
        "model.add(Dense(1))\n",
        "model.compile(loss='mean_squared_error',optimizer='adam')\n",
        "model.summary()"
      ],
      "metadata": {
        "colab": {
          "base_uri": "https://localhost:8080/"
        },
        "id": "E9xh4U47WUNG",
        "outputId": "1b64ba9c-d6b1-4a7f-d285-d5df140059f7"
      },
      "execution_count": null,
      "outputs": [
        {
          "output_type": "stream",
          "name": "stdout",
          "text": [
            "Model: \"sequential\"\n",
            "_________________________________________________________________\n",
            " Layer (type)                Output Shape              Param #   \n",
            "=================================================================\n",
            " lstm (LSTM)                 (None, 100, 50)           10400     \n",
            "                                                                 \n",
            " lstm_1 (LSTM)               (None, 100, 50)           20200     \n",
            "                                                                 \n",
            " lstm_2 (LSTM)               (None, 50)                20200     \n",
            "                                                                 \n",
            " dense (Dense)               (None, 1)                 51        \n",
            "                                                                 \n",
            "=================================================================\n",
            "Total params: 50,851\n",
            "Trainable params: 50,851\n",
            "Non-trainable params: 0\n",
            "_________________________________________________________________\n"
          ]
        }
      ]
    },
    {
      "cell_type": "code",
      "source": [
        "model.fit(X_train,y_train,validation_split=0.1,epochs=60,batch_size=64,verbose=1)"
      ],
      "metadata": {
        "colab": {
          "base_uri": "https://localhost:8080/"
        },
        "id": "dWAcZ9ONWZpp",
        "outputId": "232a815f-5368-4f37-8cbb-0ec617643933"
      },
      "execution_count": null,
      "outputs": [
        {
          "output_type": "stream",
          "name": "stdout",
          "text": [
            "Epoch 1/60\n",
            "19/19 [==============================] - 20s 608ms/step - loss: 0.0116 - val_loss: 0.0014\n",
            "Epoch 2/60\n",
            "19/19 [==============================] - 9s 466ms/step - loss: 0.0021 - val_loss: 0.0016\n",
            "Epoch 3/60\n",
            "19/19 [==============================] - 7s 385ms/step - loss: 9.4461e-04 - val_loss: 0.0012\n",
            "Epoch 4/60\n",
            "19/19 [==============================] - 7s 397ms/step - loss: 8.7165e-04 - val_loss: 0.0012\n",
            "Epoch 5/60\n",
            "19/19 [==============================] - 5s 252ms/step - loss: 8.3515e-04 - val_loss: 0.0011\n",
            "Epoch 6/60\n",
            "19/19 [==============================] - 3s 180ms/step - loss: 8.0520e-04 - val_loss: 0.0011\n",
            "Epoch 7/60\n",
            "19/19 [==============================] - 3s 182ms/step - loss: 7.8465e-04 - val_loss: 0.0011\n",
            "Epoch 8/60\n",
            "19/19 [==============================] - 3s 181ms/step - loss: 7.7143e-04 - val_loss: 0.0010\n",
            "Epoch 9/60\n",
            "19/19 [==============================] - 3s 180ms/step - loss: 7.4602e-04 - val_loss: 9.6614e-04\n",
            "Epoch 10/60\n",
            "19/19 [==============================] - 3s 179ms/step - loss: 7.4803e-04 - val_loss: 9.2268e-04\n",
            "Epoch 11/60\n",
            "19/19 [==============================] - 3s 183ms/step - loss: 7.5361e-04 - val_loss: 8.8366e-04\n",
            "Epoch 12/60\n",
            "19/19 [==============================] - 3s 181ms/step - loss: 6.8976e-04 - val_loss: 8.6597e-04\n",
            "Epoch 13/60\n",
            "19/19 [==============================] - 3s 180ms/step - loss: 6.6858e-04 - val_loss: 8.2645e-04\n",
            "Epoch 14/60\n",
            "19/19 [==============================] - 3s 182ms/step - loss: 6.4915e-04 - val_loss: 8.0506e-04\n",
            "Epoch 15/60\n",
            "19/19 [==============================] - 3s 180ms/step - loss: 6.2770e-04 - val_loss: 7.5762e-04\n",
            "Epoch 16/60\n",
            "19/19 [==============================] - 3s 180ms/step - loss: 6.4796e-04 - val_loss: 7.1340e-04\n",
            "Epoch 17/60\n",
            "19/19 [==============================] - 3s 181ms/step - loss: 6.0498e-04 - val_loss: 7.5328e-04\n",
            "Epoch 18/60\n",
            "19/19 [==============================] - 3s 181ms/step - loss: 5.9278e-04 - val_loss: 8.6865e-04\n",
            "Epoch 19/60\n",
            "19/19 [==============================] - 3s 181ms/step - loss: 5.9163e-04 - val_loss: 7.7179e-04\n",
            "Epoch 20/60\n",
            "19/19 [==============================] - 3s 183ms/step - loss: 5.7958e-04 - val_loss: 6.2566e-04\n",
            "Epoch 21/60\n",
            "19/19 [==============================] - 3s 181ms/step - loss: 5.9040e-04 - val_loss: 6.5194e-04\n",
            "Epoch 22/60\n",
            "19/19 [==============================] - 3s 183ms/step - loss: 6.1654e-04 - val_loss: 7.4567e-04\n",
            "Epoch 23/60\n",
            "19/19 [==============================] - 3s 184ms/step - loss: 5.4004e-04 - val_loss: 6.0555e-04\n",
            "Epoch 24/60\n",
            "19/19 [==============================] - 3s 184ms/step - loss: 5.3071e-04 - val_loss: 6.2988e-04\n",
            "Epoch 25/60\n",
            "19/19 [==============================] - 3s 183ms/step - loss: 5.1276e-04 - val_loss: 6.3832e-04\n",
            "Epoch 26/60\n",
            "19/19 [==============================] - 3s 183ms/step - loss: 5.0392e-04 - val_loss: 5.6794e-04\n",
            "Epoch 27/60\n",
            "19/19 [==============================] - 4s 237ms/step - loss: 4.9175e-04 - val_loss: 6.1402e-04\n",
            "Epoch 28/60\n",
            "19/19 [==============================] - 3s 179ms/step - loss: 4.8937e-04 - val_loss: 6.5199e-04\n",
            "Epoch 29/60\n",
            "19/19 [==============================] - 4s 208ms/step - loss: 4.8403e-04 - val_loss: 5.1371e-04\n",
            "Epoch 30/60\n",
            "19/19 [==============================] - 3s 183ms/step - loss: 4.6727e-04 - val_loss: 4.9199e-04\n",
            "Epoch 31/60\n",
            "19/19 [==============================] - 3s 181ms/step - loss: 4.7981e-04 - val_loss: 5.5915e-04\n",
            "Epoch 32/60\n",
            "19/19 [==============================] - 3s 182ms/step - loss: 4.6006e-04 - val_loss: 4.9094e-04\n",
            "Epoch 33/60\n",
            "19/19 [==============================] - 4s 205ms/step - loss: 4.7312e-04 - val_loss: 4.7519e-04\n",
            "Epoch 34/60\n",
            "19/19 [==============================] - 3s 183ms/step - loss: 4.7980e-04 - val_loss: 6.1509e-04\n",
            "Epoch 35/60\n",
            "19/19 [==============================] - 3s 183ms/step - loss: 4.7989e-04 - val_loss: 4.2858e-04\n",
            "Epoch 36/60\n",
            "19/19 [==============================] - 3s 182ms/step - loss: 4.4366e-04 - val_loss: 5.0873e-04\n",
            "Epoch 37/60\n",
            "19/19 [==============================] - 3s 182ms/step - loss: 4.5260e-04 - val_loss: 4.3005e-04\n",
            "Epoch 38/60\n",
            "19/19 [==============================] - 3s 182ms/step - loss: 4.0255e-04 - val_loss: 4.5850e-04\n",
            "Epoch 39/60\n",
            "19/19 [==============================] - 3s 182ms/step - loss: 4.2237e-04 - val_loss: 3.8299e-04\n",
            "Epoch 40/60\n",
            "19/19 [==============================] - 3s 182ms/step - loss: 3.8049e-04 - val_loss: 3.5970e-04\n",
            "Epoch 41/60\n",
            "19/19 [==============================] - 3s 182ms/step - loss: 3.8299e-04 - val_loss: 3.9267e-04\n",
            "Epoch 42/60\n",
            "19/19 [==============================] - 4s 236ms/step - loss: 3.5952e-04 - val_loss: 3.9440e-04\n",
            "Epoch 43/60\n",
            "19/19 [==============================] - 6s 320ms/step - loss: 3.5158e-04 - val_loss: 3.3345e-04\n",
            "Epoch 44/60\n",
            "19/19 [==============================] - 3s 183ms/step - loss: 3.3858e-04 - val_loss: 3.1747e-04\n",
            "Epoch 45/60\n",
            "19/19 [==============================] - 4s 214ms/step - loss: 3.4041e-04 - val_loss: 3.8749e-04\n",
            "Epoch 46/60\n",
            "19/19 [==============================] - 8s 432ms/step - loss: 3.4273e-04 - val_loss: 3.0332e-04\n",
            "Epoch 47/60\n",
            "19/19 [==============================] - 7s 353ms/step - loss: 3.2061e-04 - val_loss: 3.2061e-04\n",
            "Epoch 48/60\n",
            "19/19 [==============================] - 3s 182ms/step - loss: 3.2965e-04 - val_loss: 3.0568e-04\n",
            "Epoch 49/60\n",
            "19/19 [==============================] - 3s 182ms/step - loss: 3.2142e-04 - val_loss: 2.7409e-04\n",
            "Epoch 50/60\n",
            "19/19 [==============================] - 3s 182ms/step - loss: 2.8928e-04 - val_loss: 2.6593e-04\n",
            "Epoch 51/60\n",
            "19/19 [==============================] - 4s 193ms/step - loss: 2.7697e-04 - val_loss: 2.4320e-04\n",
            "Epoch 52/60\n",
            "19/19 [==============================] - 4s 185ms/step - loss: 2.6666e-04 - val_loss: 2.7295e-04\n",
            "Epoch 53/60\n",
            "19/19 [==============================] - 3s 184ms/step - loss: 2.7450e-04 - val_loss: 2.6631e-04\n",
            "Epoch 54/60\n",
            "19/19 [==============================] - 3s 181ms/step - loss: 2.8828e-04 - val_loss: 2.3925e-04\n",
            "Epoch 55/60\n",
            "19/19 [==============================] - 3s 181ms/step - loss: 2.7050e-04 - val_loss: 2.1450e-04\n",
            "Epoch 56/60\n",
            "19/19 [==============================] - 3s 181ms/step - loss: 2.3654e-04 - val_loss: 2.8484e-04\n",
            "Epoch 57/60\n",
            "19/19 [==============================] - 3s 181ms/step - loss: 2.5183e-04 - val_loss: 2.2587e-04\n",
            "Epoch 58/60\n",
            "19/19 [==============================] - 3s 183ms/step - loss: 2.5024e-04 - val_loss: 2.3740e-04\n",
            "Epoch 59/60\n",
            "19/19 [==============================] - 3s 182ms/step - loss: 2.2790e-04 - val_loss: 2.0869e-04\n",
            "Epoch 60/60\n",
            "19/19 [==============================] - 3s 183ms/step - loss: 2.5536e-04 - val_loss: 2.9118e-04\n"
          ]
        },
        {
          "output_type": "execute_result",
          "data": {
            "text/plain": [
              "<keras.callbacks.History at 0x7fb233541390>"
            ]
          },
          "metadata": {},
          "execution_count": 18
        }
      ]
    },
    {
      "cell_type": "code",
      "source": [
        "test_predict=model.predict(X_test)"
      ],
      "metadata": {
        "id": "IJKqHrZoWeYv"
      },
      "execution_count": null,
      "outputs": []
    },
    {
      "cell_type": "code",
      "source": [
        "test_predicted=scaler.inverse_transform(test_predict)\n",
        "test_predicted"
      ],
      "metadata": {
        "colab": {
          "base_uri": "https://localhost:8080/"
        },
        "id": "2iWz94ivWl7C",
        "outputId": "b23ed071-32c1-41b1-e351-2215a3ed4fc2"
      },
      "execution_count": null,
      "outputs": [
        {
          "output_type": "execute_result",
          "data": {
            "text/plain": [
              "array([[144.31221 ],\n",
              "       [144.59431 ],\n",
              "       [143.9201  ],\n",
              "       [141.63322 ],\n",
              "       [139.92657 ],\n",
              "       [139.07968 ],\n",
              "       [139.78793 ],\n",
              "       [141.11479 ],\n",
              "       [141.7111  ],\n",
              "       [141.67921 ],\n",
              "       [141.59375 ],\n",
              "       [142.56004 ],\n",
              "       [143.26553 ],\n",
              "       [144.66574 ],\n",
              "       [146.68298 ],\n",
              "       [145.33894 ],\n",
              "       [143.31284 ],\n",
              "       [142.64749 ],\n",
              "       [142.83955 ],\n",
              "       [146.89941 ],\n",
              "       [151.07048 ],\n",
              "       [153.7781  ],\n",
              "       [154.86852 ],\n",
              "       [153.51514 ],\n",
              "       [153.1396  ],\n",
              "       [152.59909 ],\n",
              "       [152.66751 ],\n",
              "       [154.0058  ],\n",
              "       [154.82425 ],\n",
              "       [155.11    ],\n",
              "       [155.61661 ],\n",
              "       [154.74753 ],\n",
              "       [151.9392  ],\n",
              "       [146.74976 ],\n",
              "       [143.0517  ],\n",
              "       [141.39362 ],\n",
              "       [141.04845 ],\n",
              "       [140.30873 ],\n",
              "       [138.45998 ],\n",
              "       [135.32063 ],\n",
              "       [132.83139 ],\n",
              "       [131.32869 ],\n",
              "       [129.20831 ],\n",
              "       [128.15298 ],\n",
              "       [126.241066],\n",
              "       [123.82619 ],\n",
              "       [122.85793 ],\n",
              "       [122.3195  ],\n",
              "       [122.35319 ],\n",
              "       [121.56554 ],\n",
              "       [120.77362 ],\n",
              "       [120.295074],\n",
              "       [119.49581 ],\n",
              "       [119.413666],\n",
              "       [120.36521 ],\n",
              "       [121.86578 ],\n",
              "       [123.65851 ],\n",
              "       [124.64156 ],\n",
              "       [124.73058 ],\n",
              "       [124.81667 ],\n",
              "       [124.90629 ],\n",
              "       [124.71281 ],\n",
              "       [124.78783 ],\n",
              "       [125.07318 ],\n",
              "       [125.2796  ],\n",
              "       [125.39116 ],\n",
              "       [125.30279 ],\n",
              "       [125.564865],\n",
              "       [125.97214 ],\n",
              "       [126.33867 ],\n",
              "       [125.82437 ],\n",
              "       [125.00989 ],\n",
              "       [123.784035],\n",
              "       [122.53525 ],\n",
              "       [121.20248 ],\n",
              "       [121.005264],\n",
              "       [121.33529 ],\n",
              "       [122.142685],\n",
              "       [123.192474],\n",
              "       [124.43313 ],\n",
              "       [125.64627 ],\n",
              "       [126.481964],\n",
              "       [127.02387 ],\n",
              "       [127.12057 ],\n",
              "       [126.95851 ],\n",
              "       [126.649254],\n",
              "       [127.1419  ],\n",
              "       [127.42183 ],\n",
              "       [128.25037 ],\n",
              "       [129.05809 ],\n",
              "       [129.59192 ],\n",
              "       [130.10553 ],\n",
              "       [130.98712 ],\n",
              "       [130.79335 ],\n",
              "       [130.37938 ],\n",
              "       [130.20428 ],\n",
              "       [130.22737 ],\n",
              "       [130.57579 ],\n",
              "       [131.3449  ],\n",
              "       [131.71104 ],\n",
              "       [132.03467 ],\n",
              "       [134.29826 ],\n",
              "       [138.25638 ],\n",
              "       [142.18108 ],\n",
              "       [144.43115 ],\n",
              "       [146.30016 ],\n",
              "       [146.79884 ],\n",
              "       [146.37689 ],\n",
              "       [145.08252 ],\n",
              "       [143.61633 ],\n",
              "       [141.9372  ],\n",
              "       [141.20328 ],\n",
              "       [141.351   ],\n",
              "       [142.39021 ],\n",
              "       [143.59439 ],\n",
              "       [143.99316 ],\n",
              "       [143.58272 ],\n",
              "       [142.78922 ],\n",
              "       [141.81088 ],\n",
              "       [142.6961  ],\n",
              "       [143.57474 ],\n",
              "       [144.68999 ],\n",
              "       [145.53157 ],\n",
              "       [145.75458 ],\n",
              "       [145.14471 ],\n",
              "       [144.12048 ],\n",
              "       [142.14012 ],\n",
              "       [141.04893 ],\n",
              "       [141.30597 ],\n",
              "       [143.33492 ],\n",
              "       [145.6707  ],\n",
              "       [147.82106 ],\n",
              "       [148.96489 ],\n",
              "       [148.27576 ],\n",
              "       [149.51088 ],\n",
              "       [151.35878 ],\n",
              "       [151.9439  ],\n",
              "       [152.23299 ],\n",
              "       [152.3784  ],\n",
              "       [152.28908 ],\n",
              "       [152.2801  ],\n",
              "       [152.82187 ],\n",
              "       [153.75822 ],\n",
              "       [154.71732 ],\n",
              "       [154.53534 ],\n",
              "       [153.95335 ],\n",
              "       [154.27342 ],\n",
              "       [154.43092 ],\n",
              "       [153.98068 ],\n",
              "       [153.04358 ],\n",
              "       [151.80025 ],\n",
              "       [151.55779 ],\n",
              "       [152.60127 ],\n",
              "       [153.61948 ],\n",
              "       [154.40378 ],\n",
              "       [154.68962 ],\n",
              "       [155.28528 ],\n",
              "       [155.27003 ],\n",
              "       [155.22807 ],\n",
              "       [156.77356 ],\n",
              "       [158.07863 ],\n",
              "       [158.3895  ],\n",
              "       [157.02888 ],\n",
              "       [155.47263 ],\n",
              "       [154.99716 ],\n",
              "       [155.56984 ],\n",
              "       [156.16644 ],\n",
              "       [156.07649 ],\n",
              "       [156.3597  ],\n",
              "       [156.72847 ],\n",
              "       [156.42737 ],\n",
              "       [154.04724 ],\n",
              "       [152.18031 ],\n",
              "       [150.79993 ],\n",
              "       [149.13426 ],\n",
              "       [146.91594 ],\n",
              "       [145.6607  ],\n",
              "       [146.60652 ],\n",
              "       [147.86105 ],\n",
              "       [148.74754 ],\n",
              "       [150.3099  ],\n",
              "       [152.64659 ],\n",
              "       [155.29437 ],\n",
              "       [157.09537 ],\n",
              "       [157.04182 ],\n",
              "       [156.86754 ],\n",
              "       [156.45193 ],\n",
              "       [156.00566 ],\n",
              "       [154.9837  ],\n",
              "       [155.60118 ],\n",
              "       [157.66148 ],\n",
              "       [159.93901 ],\n",
              "       [161.15285 ],\n",
              "       [160.73866 ],\n",
              "       [159.85571 ],\n",
              "       [159.12547 ],\n",
              "       [158.04962 ],\n",
              "       [155.9547  ],\n",
              "       [152.87662 ],\n",
              "       [151.15147 ],\n",
              "       [150.61194 ],\n",
              "       [151.5478  ],\n",
              "       [153.19061 ],\n",
              "       [154.01064 ],\n",
              "       [156.0737  ],\n",
              "       [157.09186 ],\n",
              "       [158.52588 ],\n",
              "       [162.7108  ],\n",
              "       [167.80223 ],\n",
              "       [172.79619 ],\n",
              "       [176.2992  ],\n",
              "       [177.07115 ],\n",
              "       [177.23997 ],\n",
              "       [175.86385 ],\n",
              "       [174.9697  ],\n",
              "       [173.36116 ],\n",
              "       [172.63394 ],\n",
              "       [171.99275 ],\n",
              "       [172.27089 ],\n",
              "       [173.42595 ],\n",
              "       [173.03732 ],\n",
              "       [172.35847 ],\n",
              "       [172.01768 ],\n",
              "       [171.12111 ],\n",
              "       [169.31607 ],\n",
              "       [168.40518 ],\n",
              "       [168.2177  ],\n",
              "       [169.94302 ],\n",
              "       [170.10338 ],\n",
              "       [167.81357 ],\n",
              "       [163.0032  ],\n",
              "       [162.1124  ],\n",
              "       [169.12854 ],\n",
              "       [183.21017 ],\n",
              "       [193.51958 ],\n",
              "       [198.5834  ],\n",
              "       [199.33795 ],\n",
              "       [194.66524 ],\n",
              "       [192.5984  ],\n",
              "       [191.86621 ],\n",
              "       [191.81906 ],\n",
              "       [191.0827  ],\n",
              "       [193.80672 ],\n",
              "       [197.47725 ],\n",
              "       [199.66159 ],\n",
              "       [198.10907 ],\n",
              "       [197.23807 ],\n",
              "       [201.43106 ],\n",
              "       [205.54205 ],\n",
              "       [207.8836  ],\n",
              "       [209.26834 ],\n",
              "       [210.75728 ],\n",
              "       [209.0135  ],\n",
              "       [209.12042 ],\n",
              "       [209.246   ],\n",
              "       [210.73685 ],\n",
              "       [213.56851 ],\n",
              "       [214.20354 ],\n",
              "       [212.8295  ],\n",
              "       [205.76877 ],\n",
              "       [198.04123 ],\n",
              "       [198.32649 ],\n",
              "       [198.90823 ],\n",
              "       [201.63133 ],\n",
              "       [205.24294 ],\n",
              "       [207.56177 ],\n",
              "       [207.15916 ],\n",
              "       [207.80516 ],\n",
              "       [208.42117 ],\n",
              "       [207.86871 ],\n",
              "       [207.1379  ],\n",
              "       [207.22664 ],\n",
              "       [208.98581 ],\n",
              "       [209.70006 ],\n",
              "       [209.34077 ],\n",
              "       [209.16309 ],\n",
              "       [207.4375  ],\n",
              "       [204.94374 ],\n",
              "       [202.80661 ],\n",
              "       [205.31516 ],\n",
              "       [206.3113  ],\n",
              "       [208.38258 ],\n",
              "       [215.18835 ],\n",
              "       [223.4115  ],\n",
              "       [227.53468 ],\n",
              "       [227.7874  ],\n",
              "       [225.26775 ],\n",
              "       [222.35435 ],\n",
              "       [226.04161 ],\n",
              "       [225.1418  ],\n",
              "       [222.95528 ],\n",
              "       [230.43155 ],\n",
              "       [235.05235 ],\n",
              "       [234.8993  ],\n",
              "       [239.7217  ],\n",
              "       [245.6521  ],\n",
              "       [248.77342 ],\n",
              "       [253.25197 ],\n",
              "       [263.79468 ],\n",
              "       [268.5831  ],\n",
              "       [268.6926  ],\n",
              "       [267.34412 ],\n",
              "       [268.59952 ],\n",
              "       [269.21207 ],\n",
              "       [275.67688 ],\n",
              "       [275.2086  ],\n",
              "       [277.2653  ],\n",
              "       [276.32477 ],\n",
              "       [272.35117 ],\n",
              "       [270.62463 ],\n",
              "       [267.64874 ],\n",
              "       [271.99728 ],\n",
              "       [278.3506  ],\n",
              "       [287.07797 ],\n",
              "       [283.82654 ],\n",
              "       [276.90564 ],\n",
              "       [273.0294  ],\n",
              "       [274.2277  ],\n",
              "       [278.87677 ],\n",
              "       [287.6919  ],\n",
              "       [291.81448 ],\n",
              "       [291.1884  ],\n",
              "       [290.85495 ],\n",
              "       [292.5179  ],\n",
              "       [293.33447 ],\n",
              "       [294.15292 ],\n",
              "       [300.54144 ],\n",
              "       [301.7884  ],\n",
              "       [299.8824  ],\n",
              "       [298.34653 ],\n",
              "       [298.59122 ],\n",
              "       [299.68713 ],\n",
              "       [303.28903 ],\n",
              "       [303.58932 ],\n",
              "       [302.12466 ],\n",
              "       [300.58667 ],\n",
              "       [307.82245 ],\n",
              "       [310.35312 ],\n",
              "       [306.0103  ],\n",
              "       [301.03644 ],\n",
              "       [294.1595  ],\n",
              "       [293.73386 ],\n",
              "       [295.79147 ],\n",
              "       [296.41562 ],\n",
              "       [294.49628 ],\n",
              "       [293.13663 ],\n",
              "       [291.1545  ],\n",
              "       [291.73267 ],\n",
              "       [284.16797 ],\n",
              "       [278.39658 ],\n",
              "       [268.54675 ],\n",
              "       [263.57074 ],\n",
              "       [259.6224  ],\n",
              "       [267.3758  ],\n",
              "       [273.69043 ],\n",
              "       [273.969   ],\n",
              "       [275.89664 ],\n",
              "       [274.41727 ],\n",
              "       [270.84143 ],\n",
              "       [266.76758 ],\n",
              "       [260.67972 ],\n",
              "       [255.24416 ],\n",
              "       [256.2681  ],\n",
              "       [256.3024  ],\n",
              "       [261.54535 ],\n",
              "       [266.65314 ],\n",
              "       [269.09683 ],\n",
              "       [269.00208 ],\n",
              "       [267.36536 ],\n",
              "       [266.5626  ],\n",
              "       [265.59125 ],\n",
              "       [262.16544 ],\n",
              "       [263.18924 ],\n",
              "       [262.00357 ],\n",
              "       [265.8517  ],\n",
              "       [270.03946 ],\n",
              "       [271.7475  ],\n",
              "       [272.04132 ],\n",
              "       [267.07047 ],\n",
              "       [256.5153  ],\n",
              "       [252.15237 ],\n",
              "       [253.483   ],\n",
              "       [253.59052 ],\n",
              "       [253.0094  ],\n",
              "       [255.16496 ],\n",
              "       [257.6124  ],\n",
              "       [255.36281 ],\n",
              "       [263.65915 ],\n",
              "       [268.34573 ],\n",
              "       [265.9728  ],\n",
              "       [264.28516 ],\n",
              "       [263.5198  ],\n",
              "       [266.74197 ],\n",
              "       [267.89505 ],\n",
              "       [266.88168 ],\n",
              "       [265.93512 ],\n",
              "       [266.67535 ],\n",
              "       [270.04053 ],\n",
              "       [272.81516 ],\n",
              "       [275.45084 ],\n",
              "       [277.3835  ],\n",
              "       [277.6784  ],\n",
              "       [275.48337 ],\n",
              "       [273.68216 ],\n",
              "       [276.872   ],\n",
              "       [280.76242 ],\n",
              "       [282.92093 ],\n",
              "       [286.39505 ],\n",
              "       [284.7229  ],\n",
              "       [278.89243 ],\n",
              "       [276.46838 ],\n",
              "       [280.6732  ],\n",
              "       [281.37277 ],\n",
              "       [282.28174 ],\n",
              "       [278.3205  ],\n",
              "       [277.02887 ],\n",
              "       [257.72443 ],\n",
              "       [238.38852 ],\n",
              "       [230.8953  ],\n",
              "       [236.40427 ],\n",
              "       [241.80048 ],\n",
              "       [243.46938 ],\n",
              "       [244.60045 ],\n",
              "       [245.91605 ],\n",
              "       [248.288   ],\n",
              "       [250.94133 ],\n",
              "       [253.2837  ],\n",
              "       [251.98192 ],\n",
              "       [254.34453 ],\n",
              "       [259.2468  ],\n",
              "       [258.5337  ],\n",
              "       [251.9116  ],\n",
              "       [252.82135 ],\n",
              "       [256.9785  ],\n",
              "       [260.68576 ],\n",
              "       [261.9149  ],\n",
              "       [259.51474 ],\n",
              "       [259.6669  ],\n",
              "       [261.5891  ],\n",
              "       [267.73657 ],\n",
              "       [267.74518 ],\n",
              "       [267.66226 ],\n",
              "       [262.3323  ],\n",
              "       [255.10648 ],\n",
              "       [250.49431 ],\n",
              "       [252.32489 ],\n",
              "       [256.81906 ],\n",
              "       [261.2058  ],\n",
              "       [261.57144 ],\n",
              "       [259.10464 ],\n",
              "       [260.20102 ],\n",
              "       [258.55173 ],\n",
              "       [267.0326  ],\n",
              "       [270.85776 ],\n",
              "       [267.11877 ],\n",
              "       [260.3075  ],\n",
              "       [262.327   ],\n",
              "       [265.58865 ],\n",
              "       [264.47192 ],\n",
              "       [260.10062 ],\n",
              "       [253.76242 ],\n",
              "       [241.60571 ],\n",
              "       [238.47754 ],\n",
              "       [235.06496 ],\n",
              "       [230.92433 ],\n",
              "       [232.52493 ],\n",
              "       [237.86198 ],\n",
              "       [242.83447 ],\n",
              "       [238.88129 ],\n",
              "       [234.99867 ],\n",
              "       [234.91225 ],\n",
              "       [236.07475 ],\n",
              "       [239.73318 ],\n",
              "       [235.72665 ],\n",
              "       [231.43831 ],\n",
              "       [229.28871 ],\n",
              "       [232.14165 ],\n",
              "       [234.2473  ],\n",
              "       [234.27716 ],\n",
              "       [234.08817 ],\n",
              "       [231.74614 ],\n",
              "       [230.53676 ],\n",
              "       [232.13583 ],\n",
              "       [234.83821 ],\n",
              "       [238.38731 ],\n",
              "       [241.25026 ],\n",
              "       [239.37662 ],\n",
              "       [233.89713 ],\n",
              "       [227.87836 ],\n",
              "       [228.81358 ],\n",
              "       [229.86386 ],\n",
              "       [231.26843 ],\n",
              "       [232.90056 ],\n",
              "       [232.65016 ],\n",
              "       [233.07869 ],\n",
              "       [226.10014 ],\n",
              "       [219.78903 ],\n",
              "       [216.74985 ],\n",
              "       [217.89793 ],\n",
              "       [219.66039 ],\n",
              "       [217.53998 ],\n",
              "       [218.72421 ],\n",
              "       [226.50308 ],\n",
              "       [233.65065 ],\n",
              "       [235.28284 ],\n",
              "       [233.41017 ],\n",
              "       [230.84143 ],\n",
              "       [228.70192 ],\n",
              "       [229.66226 ],\n",
              "       [230.43344 ]], dtype=float32)"
            ]
          },
          "metadata": {},
          "execution_count": 20
        }
      ]
    },
    {
      "cell_type": "markdown",
      "source": [
        "\n",
        "## Calculating Performance"
      ],
      "metadata": {
        "id": "lHrBoBCLWvoF"
      }
    },
    {
      "cell_type": "code",
      "source": [
        "performance = math.sqrt(mean_squared_error(ytest,test_predict))\n",
        "performance"
      ],
      "metadata": {
        "colab": {
          "base_uri": "https://localhost:8080/"
        },
        "id": "LKiYCdlnWrm3",
        "outputId": "ad4bd1f2-5d20-4b15-cabb-6bfea6933e1d"
      },
      "execution_count": null,
      "outputs": [
        {
          "output_type": "execute_result",
          "data": {
            "text/plain": [
              "0.029786024609107245"
            ]
          },
          "metadata": {},
          "execution_count": 21
        }
      ]
    },
    {
      "cell_type": "code",
      "source": [
        ""
      ],
      "metadata": {
        "id": "9gaw-zn0WyYe"
      },
      "execution_count": null,
      "outputs": []
    }
  ]
}